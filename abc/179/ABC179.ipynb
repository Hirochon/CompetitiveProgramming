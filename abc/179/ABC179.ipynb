{
 "cells": [
  {
   "cell_type": "markdown",
   "metadata": {},
   "source": [
    "## A問題"
   ]
  },
  {
   "cell_type": "code",
   "execution_count": 8,
   "metadata": {},
   "outputs": [
    {
     "name": "stdout",
     "output_type": "stream",
     "text": [
      "bus\n",
      "buses\n"
     ]
    }
   ],
   "source": [
    "S = input()\n",
    "if S[-1] == \"s\":\n",
    "    S += \"es\"\n",
    "else:\n",
    "    S += \"s\"\n",
    "print(S)"
   ]
  },
  {
   "cell_type": "markdown",
   "metadata": {},
   "source": [
    "## B問題"
   ]
  },
  {
   "cell_type": "code",
   "execution_count": 13,
   "metadata": {},
   "outputs": [
    {
     "name": "stdout",
     "output_type": "stream",
     "text": [
      "6\n",
      "1 1\n",
      "2 2\n",
      "3 3\n",
      "4 5\n",
      "5 2\n",
      "2 3\n",
      "Yes\n"
     ]
    }
   ],
   "source": [
    "N = int(input())\n",
    "count = 0\n",
    "is_true = False\n",
    "for i in range(N):\n",
    "    D1, D2 = map(int, input().split())\n",
    "    if D1 == D2:\n",
    "        count += 1\n",
    "        if count == 3:\n",
    "            is_true = True\n",
    "    else:\n",
    "        count = 0\n",
    "\n",
    "if is_true:\n",
    "    print(\"Yes\")\n",
    "else:\n",
    "    print(\"No\")"
   ]
  },
  {
   "cell_type": "markdown",
   "metadata": {},
   "source": [
    "## C問題"
   ]
  },
  {
   "cell_type": "code",
   "execution_count": 40,
   "metadata": {},
   "outputs": [
    {
     "name": "stdout",
     "output_type": "stream",
     "text": [
      "100000\n",
      "1166714\n"
     ]
    }
   ],
   "source": [
    "count = 0\n",
    "N = int(input())\n",
    "for i in range(1, N):\n",
    "    NC = N - i\n",
    "    \n",
    "    count2 = 0\n",
    "    for j in range(1, int(NC**0.5)+1):\n",
    "        if NC % j == 0:\n",
    "#             print(NC, j)\n",
    "            if NC**0.5 == j:\n",
    "                count += 1\n",
    "            else:\n",
    "                count2 += 1\n",
    "    count += count2 * 2\n",
    "print(count)"
   ]
  },
  {
   "cell_type": "markdown",
   "metadata": {},
   "source": [
    "## D問題"
   ]
  },
  {
   "cell_type": "code",
   "execution_count": 9,
   "metadata": {},
   "outputs": [
    {
     "name": "stdout",
     "output_type": "stream",
     "text": [
      "5 2\n",
      "1 2\n",
      "2 3\n",
      "deque([1])\n",
      "deque([1, 1])\n",
      "deque([1, 1, 1])\n",
      "deque([1, 1, 1, 1])\n",
      "deque([1, 1, 1, 1, 1])\n",
      "deque([2, 1, 1, 1, 1])\n",
      "deque([3, 1, 1, 1, 1])\n",
      "deque([2, 1, 1, 1, 1])\n",
      "deque([3, 1, 1, 1, 1])\n",
      "deque([2, 1, 1, 1, 1])\n",
      "deque([3, 1, 1, 1, 1])\n",
      "deque([2, 1, 1, 1, 1])\n",
      "deque([3, 1, 1, 1, 1])\n",
      "deque([2, 1, 1, 1, 1])\n",
      "deque([3, 1, 1, 1, 1])\n",
      "deque([1, 1, 1, 1])\n"
     ]
    }
   ],
   "source": [
    "from collections import deque\n",
    "\n",
    "N, K = map(int, input().split())\n",
    "LR_list = []\n",
    "for i in range(K):\n",
    "    LR_list.extend(list(map(int, input().split())))\n",
    "LR_unique = sorted(set(LR_list))\n",
    "\n",
    "visited_list = []\n",
    "\n",
    "def saiki(stack):\n",
    "    count = 0\n",
    "    for uni_l in LR_unique:\n",
    "        stack.appendleft(uni_l)\n",
    "        if sum(stack) == N:\n",
    "            count += 1\n",
    "            print(stack)\n",
    "            visited_list.append(stack)\n",
    "            stack.popleft()\n",
    "        elif sum(stack) > N:\n",
    "            print(stack)\n",
    "            stack.popleft()\n",
    "        else:\n",
    "            print(stack)\n",
    "            saiki(stack)\n",
    "            \n",
    "    return stack\n",
    "            \n",
    "a = saiki(deque([]))\n",
    "print(a)"
   ]
  },
  {
   "cell_type": "code",
   "execution_count": 2,
   "metadata": {},
   "outputs": [],
   "source": [
    "def saiki(stack):\n",
    "    for uni_l in LR_unique:\n",
    "        stack.appendleft(uni_l)\n",
    "        if sum(stack) == N:\n",
    "            count += 1\n",
    "            break\n",
    "        if sum(stack) > N:\n",
    "            break\n",
    "        else:\n",
    "            saiki(stack)"
   ]
  },
  {
   "cell_type": "code",
   "execution_count": 49,
   "metadata": {},
   "outputs": [],
   "source": [
    "visited_list = [[2,3,4], [3,4], [2], [4,5,6,7]]"
   ]
  },
  {
   "cell_type": "code",
   "execution_count": 70,
   "metadata": {},
   "outputs": [],
   "source": [
    "st = deque([])\n",
    "st.appendleft(2)"
   ]
  },
  {
   "cell_type": "code",
   "execution_count": 71,
   "metadata": {},
   "outputs": [
    {
     "data": {
      "text/plain": [
       "deque([2])"
      ]
     },
     "execution_count": 71,
     "metadata": {},
     "output_type": "execute_result"
    }
   ],
   "source": [
    "st"
   ]
  }
 ],
 "metadata": {
  "kernelspec": {
   "display_name": "Python 3",
   "language": "python",
   "name": "python3"
  },
  "language_info": {
   "codemirror_mode": {
    "name": "ipython",
    "version": 3
   },
   "file_extension": ".py",
   "mimetype": "text/x-python",
   "name": "python",
   "nbconvert_exporter": "python",
   "pygments_lexer": "ipython3",
   "version": "3.7.6"
  }
 },
 "nbformat": 4,
 "nbformat_minor": 4
}
