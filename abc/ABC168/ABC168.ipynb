{
 "cells": [
  {
   "cell_type": "code",
   "execution_count": 1,
   "metadata": {},
   "outputs": [
    {
     "name": "stdout",
     "output_type": "stream",
     "text": [
      "Package                Version            \r\n",
      "---------------------- -------------------\r\n",
      "alembic                1.4.1              \r\n",
      "async-generator        1.10               \r\n",
      "attrs                  19.3.0             \r\n",
      "backcall               0.1.0              \r\n",
      "beautifulsoup4         4.8.2              \r\n",
      "bleach                 3.1.3              \r\n",
      "blinker                1.4                \r\n",
      "bokeh                  1.4.0              \r\n",
      "certifi                2019.11.28         \r\n",
      "certipy                0.1.3              \r\n",
      "cffi                   1.14.0             \r\n",
      "chardet                3.0.4              \r\n",
      "click                  7.1.1              \r\n",
      "cloudpickle            1.3.0              \r\n",
      "conda                  4.8.2              \r\n",
      "conda-package-handling 1.6.0              \r\n",
      "cryptography           2.8                \r\n",
      "cycler                 0.10.0             \r\n",
      "Cython                 0.29.15            \r\n",
      "cytoolz                0.10.1             \r\n",
      "dask                   2.11.0             \r\n",
      "decorator              4.4.2              \r\n",
      "defusedxml             0.6.0              \r\n",
      "dill                   0.3.1.1            \r\n",
      "distributed            2.12.0             \r\n",
      "entrypoints            0.3                \r\n",
      "fsspec                 0.6.2              \r\n",
      "h5py                   2.10.0             \r\n",
      "HeapDict               1.0.1              \r\n",
      "idna                   2.9                \r\n",
      "imageio                2.8.0              \r\n",
      "importlib-metadata     1.5.0              \r\n",
      "ipykernel              5.1.4              \r\n",
      "ipympl                 0.5.3              \r\n",
      "ipython                7.13.0             \r\n",
      "ipython-genutils       0.2.0              \r\n",
      "ipywidgets             7.5.1              \r\n",
      "jedi                   0.16.0             \r\n",
      "Jinja2                 2.11.1             \r\n",
      "joblib                 0.14.1             \r\n",
      "json5                  0.9.0              \r\n",
      "jsonschema             3.2.0              \r\n",
      "jupyter-client         6.0.0              \r\n",
      "jupyter-core           4.6.3              \r\n",
      "jupyter-telemetry      0.0.5              \r\n",
      "jupyterhub             1.1.0              \r\n",
      "jupyterlab             2.0.1              \r\n",
      "jupyterlab-server      1.0.7              \r\n",
      "kiwisolver             1.1.0              \r\n",
      "llvmlite               0.31.0             \r\n",
      "locket                 0.2.0              \r\n",
      "Mako                   1.1.0              \r\n",
      "MarkupSafe             1.1.1              \r\n",
      "matplotlib             3.1.3              \r\n",
      "mistune                0.8.4              \r\n",
      "mpmath                 1.1.0              \r\n",
      "msgpack                1.0.0              \r\n",
      "nbconvert              5.6.1              \r\n",
      "nbformat               5.0.4              \r\n",
      "networkx               2.4                \r\n",
      "notebook               6.0.3              \r\n",
      "numba                  0.48.0             \r\n",
      "numexpr                2.7.1              \r\n",
      "numpy                  1.18.1             \r\n",
      "oauthlib               3.0.1              \r\n",
      "olefile                0.46               \r\n",
      "packaging              20.1               \r\n",
      "pamela                 1.0.0              \r\n",
      "pandas                 1.0.2              \r\n",
      "pandocfilters          1.4.2              \r\n",
      "parso                  0.6.2              \r\n",
      "partd                  1.1.0              \r\n",
      "patsy                  0.5.1              \r\n",
      "pexpect                4.8.0              \r\n",
      "pickleshare            0.7.5              \r\n",
      "Pillow                 7.0.0              \r\n",
      "pip                    20.0.2             \r\n",
      "prometheus-client      0.7.1              \r\n",
      "prompt-toolkit         3.0.4              \r\n",
      "protobuf               3.11.4             \r\n",
      "psutil                 5.7.0              \r\n",
      "ptyprocess             0.6.0              \r\n",
      "pycosat                0.6.3              \r\n",
      "pycparser              2.20               \r\n",
      "pycurl                 7.43.0.5           \r\n",
      "Pygments               2.6.1              \r\n",
      "PyJWT                  1.7.1              \r\n",
      "pyOpenSSL              19.1.0             \r\n",
      "pyparsing              2.4.6              \r\n",
      "pyrsistent             0.15.7             \r\n",
      "PySocks                1.7.1              \r\n",
      "python-dateutil        2.8.1              \r\n",
      "python-editor          1.0.4              \r\n",
      "python-json-logger     0.1.11             \r\n",
      "pytz                   2019.3             \r\n",
      "PyWavelets             1.1.1              \r\n",
      "PyYAML                 5.3                \r\n",
      "pyzmq                  19.0.0             \r\n",
      "requests               2.23.0             \r\n",
      "rpy2                   3.1.0              \r\n",
      "ruamel-yaml            0.15.80            \r\n",
      "ruamel.yaml            0.16.6             \r\n",
      "ruamel.yaml.clib       0.2.0              \r\n",
      "scikit-image           0.16.2             \r\n",
      "scikit-learn           0.22.2.post1       \r\n",
      "scipy                  1.4.1              \r\n",
      "seaborn                0.10.0             \r\n",
      "Send2Trash             1.5.0              \r\n",
      "setuptools             46.0.0.post20200311\r\n",
      "simplegeneric          0.8.1              \r\n",
      "six                    1.14.0             \r\n",
      "sortedcontainers       2.1.0              \r\n",
      "soupsieve              1.9.4              \r\n",
      "SQLAlchemy             1.3.15             \r\n",
      "statsmodels            0.11.1             \r\n",
      "sympy                  1.5.1              \r\n",
      "tblib                  1.6.0              \r\n",
      "terminado              0.8.3              \r\n",
      "testpath               0.4.4              \r\n",
      "toolz                  0.10.0             \r\n",
      "tornado                6.0.4              \r\n",
      "tqdm                   4.43.0             \r\n",
      "traitlets              4.3.3              \r\n",
      "tzlocal                2.0.0              \r\n",
      "urllib3                1.25.7             \r\n",
      "vincent                0.4.4              \r\n",
      "wcwidth                0.1.8              \r\n",
      "webencodings           0.5.1              \r\n",
      "wheel                  0.34.2             \r\n",
      "widgetsnbextension     3.5.1              \r\n",
      "xlrd                   1.2.0              \r\n",
      "zict                   2.0.0              \r\n",
      "zipp                   3.1.0              \r\n"
     ]
    }
   ],
   "source": [
    "!pip list"
   ]
  },
  {
   "cell_type": "markdown",
   "metadata": {},
   "source": [
    "## A問題"
   ]
  },
  {
   "cell_type": "code",
   "execution_count": 10,
   "metadata": {},
   "outputs": [
    {
     "name": "stdout",
     "output_type": "stream",
     "text": [
      "183\n",
      "bon\n"
     ]
    }
   ],
   "source": [
    "N = input()\n",
    "n = int(N[-1])\n",
    "if n == 3:\n",
    "    print('bon')\n",
    "elif n == 0 or n == 1 or n == 6 or n == 8:\n",
    "    print('pon')\n",
    "else:\n",
    "    print('hon')\n"
   ]
  },
  {
   "cell_type": "markdown",
   "metadata": {},
   "source": [
    "## B問題"
   ]
  },
  {
   "cell_type": "code",
   "execution_count": 17,
   "metadata": {},
   "outputs": [
    {
     "name": "stdout",
     "output_type": "stream",
     "text": [
      "40\n",
      "ferelibenterhominesidquodvoluntcredunt\n",
      "ferelibenterhominesidquodvoluntcredunt\n"
     ]
    }
   ],
   "source": [
    "K = int(input())\n",
    "S = input()\n",
    "s_len = len(S)\n",
    "if K >= s_len:\n",
    "    print(S)\n",
    "else:\n",
    "    for i in range(K):\n",
    "        print(S[i], end=\"\")\n",
    "    print('...')"
   ]
  },
  {
   "cell_type": "markdown",
   "metadata": {},
   "source": [
    "## C問題"
   ]
  },
  {
   "cell_type": "code",
   "execution_count": 30,
   "metadata": {
    "scrolled": true
   },
   "outputs": [
    {
     "name": "stdout",
     "output_type": "stream",
     "text": [
      "3 4 10 40\n",
      "4.564257194330056\n"
     ]
    }
   ],
   "source": [
    "import numpy as np\n",
    "\n",
    "A, B, H, M = map(int, input().split())\n",
    "H_kakudo = (H * 60 + M) / (12 * 60) * np.pi * 2\n",
    "M_kakudo = M / 60 * 2 * np.pi\n",
    "HM_kakudo = abs(H_kakudo - M_kakudo)\n",
    "ans = A**2 + B**2 - 2*(A*B*np.cos(HM_kakudo))\n",
    "print(np.sqrt(ans))"
   ]
  },
  {
   "cell_type": "markdown",
   "metadata": {},
   "source": [
    "## D問題"
   ]
  },
  {
   "cell_type": "code",
   "execution_count": 47,
   "metadata": {},
   "outputs": [
    {
     "name": "stdout",
     "output_type": "stream",
     "text": [
      "4 4\n",
      "1 2\n",
      "2 3\n",
      "3 4\n",
      "4 2\n",
      "Yes\n",
      "1\n",
      "2\n",
      "2\n"
     ]
    }
   ],
   "source": [
    "import numpy as np\n",
    "\n",
    "N, M = map(int, input().split())\n",
    "ans_list = np.zeros(N-1, dtype=int)\n",
    "AB = []\n",
    "flag = 0\n",
    "ans_num_1 = []\n",
    "for i in range(M):\n",
    "    ab = list(map(int, input().split()))\n",
    "    AB.append(ab)\n",
    "    if 1 in ab:\n",
    "        for j in ab:\n",
    "            if j != 1:\n",
    "                ans_num_1.append(j)\n",
    "                ans_list[j-2] = 1\n",
    "        AB.remove(ab)\n",
    "if 0 not in ans_list:\n",
    "    flag = 1\n",
    "    print(\"Yes\")\n",
    "# print(ans_list)\n",
    "while(flag != 1):\n",
    "    if flag == 0:\n",
    "        for ab in AB:\n",
    "            for ans_num in ans_num_1:\n",
    "                if ans_num in ab:\n",
    "                    for j in ab:\n",
    "                        if ans_num != j:\n",
    "                            ans_list[j-2] = ans_num\n",
    "                    AB.remove(ab)\n",
    "            \n",
    "        if 0 not in ans_list:\n",
    "            flag = 1\n",
    "            print(\"Yes\")\n",
    "if flag == 1:\n",
    "    for ans in ans_list:\n",
    "        print(ans)"
   ]
  },
  {
   "cell_type": "code",
   "execution_count": 49,
   "metadata": {},
   "outputs": [
    {
     "name": "stdout",
     "output_type": "stream",
     "text": [
      "4 4\n",
      "1 2\n",
      "2 3\n",
      "3 4\n",
      "4 2\n",
      "[[1, 2], [2, 3], [3, 4], [4, 2]]\n"
     ]
    }
   ],
   "source": [
    "from collections import deque\n",
    "\n",
    "N, M = map(int, input().split())\n",
    "AB = []\n",
    "for i in range(M):\n",
    "    ab = list(map(int, input().split()))\n",
    "    AB.append(ab)\n",
    "# print(AB)\n",
    "\n",
    "graph = [[] for _ in range(N + 1)]\n",
    "for a, b in AB:\n",
    "    graph[a].append(b)\n",
    "    graph[b].append(a)\n",
    "que = d([1])\n",
    "ans = [0]*(N+1)\n",
    "while que:\n",
    "    x = deque.popleft(que)\n",
    "    for i in graph[x]:\n",
    "        if ans[i] != 0:\n",
    "            continue\n",
    "        ans[i] = x\n",
    "        que.append(i)\n",
    "for a in ans[2:]:\n",
    "    if a == 0:\n",
    "        print('No')\n",
    "        break\n",
    "else:\n",
    "    print('Yes')\n",
    "    print('\\n'.join(map(str, ans[2:])))"
   ]
  }
 ],
 "metadata": {
  "kernelspec": {
   "display_name": "Python 3",
   "language": "python",
   "name": "python3"
  },
  "language_info": {
   "codemirror_mode": {
    "name": "ipython",
    "version": 3
   },
   "file_extension": ".py",
   "mimetype": "text/x-python",
   "name": "python",
   "nbconvert_exporter": "python",
   "pygments_lexer": "ipython3",
   "version": "3.7.6"
  }
 },
 "nbformat": 4,
 "nbformat_minor": 4
}
