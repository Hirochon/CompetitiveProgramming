{
 "cells": [
  {
   "cell_type": "code",
   "execution_count": 3,
   "metadata": {},
   "outputs": [
    {
     "name": "stdout",
     "output_type": "stream",
     "text": [
      "10\n",
      "1110\n"
     ]
    }
   ],
   "source": [
    "a = int(input())\n",
    "print(a**3 + a**2 + a)"
   ]
  },
  {
   "cell_type": "code",
   "execution_count": 8,
   "metadata": {},
   "outputs": [
    {
     "name": "stdout",
     "output_type": "stream",
     "text": [
      "apple\n",
      "apple\n",
      "0\n"
     ]
    }
   ],
   "source": [
    "S = input()\n",
    "T = input()\n",
    "num = 0\n",
    "for i, s in enumerate(S):\n",
    "    if s != T[i]:\n",
    "        num += 1\n",
    "print(num)"
   ]
  },
  {
   "cell_type": "code",
   "execution_count": 30,
   "metadata": {},
   "outputs": [
    {
     "name": "stdout",
     "output_type": "stream",
     "text": [
      "5 4 1\n",
      "1000000000 1000000000 1000000000 1000000000 1000000000\n",
      "1000000000 1000000000 1000000000 1000000000\n",
      "0\n"
     ]
    }
   ],
   "source": [
    "from collections import deque\n",
    "\n",
    "N, M, K = map(int, input().split())\n",
    "A = deque(map(int, input().split()))\n",
    "B = deque(map(int, input().split()))\n",
    "flag = 0\n",
    "\n",
    "if A[0] < B[0]:\n",
    "    switch = 0\n",
    "else:\n",
    "    switch = 1\n",
    "\n",
    "kiroku = 0\n",
    "num = 0\n",
    "\n",
    "while flag != 1:\n",
    "    if switch == 0 or switch == 10:\n",
    "        kiroku += A.popleft()\n",
    "        \n",
    "        if kiroku > K:\n",
    "            break\n",
    "            \n",
    "        num += 1\n",
    "        \n",
    "        if len(A) == 0:\n",
    "            switch = 11\n",
    "            if len(B) == 0:\n",
    "                break\n",
    "                \n",
    "    elif switch == 1 or switch == 11:\n",
    "        kiroku += B.popleft()\n",
    "        \n",
    "        if kiroku > K:\n",
    "            break\n",
    "        \n",
    "        num += 1\n",
    "        \n",
    "        if len(B) == 0:\n",
    "            switch = 10\n",
    "            if len(A) == 0:\n",
    "                break\n",
    "                \n",
    "    if switch < 9:\n",
    "        if A[0] < B[0]:\n",
    "            switch = 0\n",
    "        else:\n",
    "            switch = 1\n",
    "            \n",
    "print(num)"
   ]
  }
 ],
 "metadata": {
  "kernelspec": {
   "display_name": "Python 3",
   "language": "python",
   "name": "python3"
  },
  "language_info": {
   "codemirror_mode": {
    "name": "ipython",
    "version": 3
   },
   "file_extension": ".py",
   "mimetype": "text/x-python",
   "name": "python",
   "nbconvert_exporter": "python",
   "pygments_lexer": "ipython3",
   "version": "3.7.6"
  }
 },
 "nbformat": 4,
 "nbformat_minor": 4
}
