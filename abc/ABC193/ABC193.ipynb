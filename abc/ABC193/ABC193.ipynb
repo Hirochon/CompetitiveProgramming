{
 "cells": [
  {
   "cell_type": "code",
   "execution_count": 5,
   "metadata": {},
   "outputs": [
    {
     "name": "stdout",
     "output_type": "stream",
     "text": [
      "99999 99998\n",
      "0.001000010000100001\n"
     ]
    }
   ],
   "source": [
    "A, B = map(int, input().split())\n",
    "\n",
    "print((A-B) / A * 100)"
   ]
  },
  {
   "cell_type": "code",
   "execution_count": null,
   "metadata": {},
   "outputs": [],
   "source": []
  },
  {
   "cell_type": "code",
   "execution_count": 19,
   "metadata": {},
   "outputs": [
    {
     "name": "stdout",
     "output_type": "stream",
     "text": [
      "10\n",
      "158260522 877914575 602436426\n",
      "24979445 861648772 623690081\n",
      "433933447 476190629 262703497\n",
      "211047202 971407775 628894325\n",
      "731963982 822804784 450968417\n",
      "430302156 982631932 161735902\n",
      "880895728 923078537 707723857\n",
      "189330739 910286918 802329211\n",
      "404539679 303238506 317063340\n",
      "492686568 773361868 125660016\n",
      "861648772\n"
     ]
    }
   ],
   "source": [
    "N = int(input())\n",
    "\n",
    "ans_num = 10**9+1\n",
    "trg = False\n",
    "\n",
    "for i in range(N):\n",
    "    A, P, X = map(int, input().split())\n",
    "    \n",
    "    if A < X:\n",
    "        if ans_num > P:\n",
    "            ans_num = P\n",
    "            trg = True\n",
    "\n",
    "if trg:\n",
    "    print(ans_num)\n",
    "else:\n",
    "    print(-1)"
   ]
  },
  {
   "cell_type": "code",
   "execution_count": null,
   "metadata": {},
   "outputs": [],
   "source": []
  },
  {
   "cell_type": "code",
   "execution_count": 85,
   "metadata": {},
   "outputs": [
    {
     "name": "stdout",
     "output_type": "stream",
     "text": [
      "100000\n",
      "99634\n"
     ]
    }
   ],
   "source": [
    "import numpy as np\n",
    "\n",
    "N = int(input())\n",
    "\n",
    "sqrt_N = int(np.floor(np.sqrt(N)))\n",
    "i = 1\n",
    "flag = True\n",
    "length = 0\n",
    "memos = []\n",
    "\n",
    "while flag:\n",
    "    i += 1\n",
    "    pre_ans_nums = (np.arange(sqrt_N-1) + 2)**i\n",
    "    ans_nums = pre_ans_nums[pre_ans_nums <= N]\n",
    "    ans_nums_copy = ans_nums.copy()\n",
    "    memos.extend(ans_nums_copy)\n",
    "    num = len(ans_nums)\n",
    "    if num == 0:\n",
    "        flag = False\n",
    "    else:\n",
    "        length += num\n",
    "        sqrt_N = num+1\n",
    "\n",
    "ans_memos = list(set(memos))\n",
    "print(N - len(ans_memos))"
   ]
  },
  {
   "cell_type": "code",
   "execution_count": null,
   "metadata": {},
   "outputs": [],
   "source": []
  }
 ],
 "metadata": {
  "kernelspec": {
   "display_name": "Python 3",
   "language": "python",
   "name": "python3"
  },
  "language_info": {
   "codemirror_mode": {
    "name": "ipython",
    "version": 3
   },
   "file_extension": ".py",
   "mimetype": "text/x-python",
   "name": "python",
   "nbconvert_exporter": "python",
   "pygments_lexer": "ipython3",
   "version": "3.7.6"
  }
 },
 "nbformat": 4,
 "nbformat_minor": 4
}
