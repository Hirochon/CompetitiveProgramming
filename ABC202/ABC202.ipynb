{
 "cells": [
  {
   "cell_type": "code",
   "execution_count": 7,
   "metadata": {},
   "outputs": [
    {
     "name": "stdout",
     "output_type": "stream",
     "text": [
      "1 4 3\n",
      "13\n"
     ]
    }
   ],
   "source": [
    "a, b, c = map(int, input().split())\n",
    "\n",
    "saiko_dict = {1:6, 2:5, 3:4, 4:3, 5:2, 6:1}\n",
    "\n",
    "print(saiko_dict[a] + saiko_dict[b] + saiko_dict[c])"
   ]
  },
  {
   "cell_type": "code",
   "execution_count": 2,
   "metadata": {},
   "outputs": [],
   "source": [
    "saiko_dict = {1:6, 2:5, 3:4, 4:3, 5:2, 6:1}"
   ]
  },
  {
   "cell_type": "code",
   "execution_count": 14,
   "metadata": {},
   "outputs": [
    {
     "name": "stdout",
     "output_type": "stream",
     "text": [
      "01010\n",
      "01010\n"
     ]
    }
   ],
   "source": [
    "S = input()\n",
    "S_ans = ''\n",
    "hanten_dict = {\"0\":\"0\", \"1\":\"1\", \"6\":\"9\", \"8\":\"8\", \"9\":\"6\"}\n",
    "\n",
    "for i in range(len(S)):\n",
    "    S_ans += hanten_dict[S[i]]\n",
    "    \n",
    "print(S_ans[::-1])"
   ]
  },
  {
   "cell_type": "code",
   "execution_count": null,
   "metadata": {},
   "outputs": [],
   "source": []
  },
  {
   "cell_type": "code",
   "execution_count": 62,
   "metadata": {},
   "outputs": [
    {
     "name": "stdout",
     "output_type": "stream",
     "text": [
      "3\n",
      "2 3 3\n",
      "1 3 3\n",
      "1 1 1\n",
      "0\n"
     ]
    }
   ],
   "source": [
    "from collections import defaultdict as dd\n",
    "\n",
    "N = int(input())\n",
    "\n",
    "A = list(map(int, input().split()))\n",
    "B = list(map(int, input().split()))\n",
    "C = list(map(int, input().split()))\n",
    "\n",
    "A_dd = dd(int)\n",
    "C_dd = dd(int)\n",
    "\n",
    "for i in range(N):\n",
    "    A_dd[A[i]] += 1\n",
    "    \n",
    "for i in range(N):\n",
    "    C_dd[C[i]] += 1\n",
    "\n",
    "ans = 0\n",
    "\n",
    "for i_str, count in C_dd.items():\n",
    "    ans += A_dd[B[i_str-1]] * count\n",
    "\n",
    "print(ans)"
   ]
  },
  {
   "cell_type": "code",
   "execution_count": 58,
   "metadata": {},
   "outputs": [
    {
     "data": {
      "text/plain": [
       "defaultdict(int, {2: 2, 3: 1})"
      ]
     },
     "execution_count": 58,
     "metadata": {},
     "output_type": "execute_result"
    }
   ],
   "source": [
    "C_dd"
   ]
  },
  {
   "cell_type": "code",
   "execution_count": 49,
   "metadata": {},
   "outputs": [],
   "source": [
    "A[\"2\"] += 1"
   ]
  },
  {
   "cell_type": "code",
   "execution_count": 55,
   "metadata": {},
   "outputs": [
    {
     "name": "stdout",
     "output_type": "stream",
     "text": [
      "1 1\n",
      "2 3\n"
     ]
    }
   ],
   "source": [
    "for i_str, count in A.items():\n",
    "    print(i_str, count)"
   ]
  },
  {
   "cell_type": "code",
   "execution_count": null,
   "metadata": {},
   "outputs": [],
   "source": [
    "A, B, K = map(int, input().split())\n",
    "\n"
   ]
  },
  {
   "cell_type": "code",
   "execution_count": 80,
   "metadata": {},
   "outputs": [
    {
     "data": {
      "text/plain": [
       "1152921503533105152"
      ]
     },
     "execution_count": 80,
     "metadata": {},
     "output_type": "execute_result"
    }
   ],
   "source": [
    "(1 << 60) - (1 << 30)*2"
   ]
  },
  {
   "cell_type": "code",
   "execution_count": null,
   "metadata": {},
   "outputs": [],
   "source": [
    "118264581564861424\n",
    "1073741824"
   ]
  },
  {
   "cell_type": "code",
   "execution_count": 75,
   "metadata": {},
   "outputs": [],
   "source": [
    "from itertools import combinations"
   ]
  },
  {
   "cell_type": "code",
   "execution_count": 79,
   "metadata": {},
   "outputs": [],
   "source": [
    "for i in combinations(\"ab\", 4):\n",
    "    print(i)"
   ]
  },
  {
   "cell_type": "code",
   "execution_count": 88,
   "metadata": {},
   "outputs": [
    {
     "name": "stdout",
     "output_type": "stream",
     "text": [
      "2\n"
     ]
    }
   ],
   "source": [
    "for i in range()"
   ]
  },
  {
   "cell_type": "code",
   "execution_count": 90,
   "metadata": {},
   "outputs": [
    {
     "name": "stdout",
     "output_type": "stream",
     "text": [
      "2 2 4\n",
      "baab\n"
     ]
    }
   ],
   "source": [
    "import math\n",
    "\n",
    "def combinations_count(n, r):\n",
    "    return math.factorial(n) // (math.factorial(n - r) * math.factorial(r))\n",
    "\n",
    "A, B, K = map(int, input().split())\n",
    "\n",
    "S= [\"a\" for a in range(A)] + [\"b\" for b in range(B)]\n",
    "T=[]\n",
    "\n",
    "for i in range(A+B):\n",
    "    a=S.count(\"a\")\n",
    "    b=S.count(\"b\")\n",
    "    \n",
    "    if a==0:\n",
    "        T.append(\"b\")\n",
    "    elif b==0:\n",
    "        T.append(\"a\")\n",
    "    else:\n",
    "        check=combinations_count(a+b-1,a-1)\n",
    "    \n",
    "        if K<=check:\n",
    "            T.append(\"a\")\n",
    "            S.remove(\"a\")\n",
    "        else:\n",
    "            T.append(\"b\")\n",
    "            S.remove(\"b\")\n",
    "            K-=check\n",
    "\n",
    "print(\"\".join(T))"
   ]
  },
  {
   "cell_type": "code",
   "execution_count": null,
   "metadata": {},
   "outputs": [],
   "source": []
  }
 ],
 "metadata": {
  "kernelspec": {
   "display_name": "Python 3",
   "language": "python",
   "name": "python3"
  },
  "language_info": {
   "codemirror_mode": {
    "name": "ipython",
    "version": 3
   },
   "file_extension": ".py",
   "mimetype": "text/x-python",
   "name": "python",
   "nbconvert_exporter": "python",
   "pygments_lexer": "ipython3",
   "version": "3.7.6"
  }
 },
 "nbformat": 4,
 "nbformat_minor": 4
}
