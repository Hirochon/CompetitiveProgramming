{
 "cells": [
  {
   "cell_type": "code",
   "execution_count": 7,
   "metadata": {},
   "outputs": [
    {
     "name": "stdout",
     "output_type": "stream",
     "text": [
      "100 1 1\n",
      "100\n"
     ]
    }
   ],
   "source": [
    "N, A, B = map(int, input().split())\n",
    "N -= A\n",
    "N += B\n",
    "\n",
    "print(N)"
   ]
  },
  {
   "cell_type": "code",
   "execution_count": 55,
   "metadata": {},
   "outputs": [
    {
     "name": "stdout",
     "output_type": "stream",
     "text": [
      "2\n",
      "2 -1\n",
      "3\n",
      "2.0\n",
      "2\n"
     ]
    }
   ],
   "source": [
    "import numpy as np\n",
    "\n",
    "N = int(input())\n",
    "x = np.array(list(map(int, input().split())))\n",
    "abs_x = np.abs(x)\n",
    "print(abs_x.sum())\n",
    "x_2 = np.power(2, 2, dtype='float128')\n",
    "sum_x = np.sum((x_2), dtype='float128')\n",
    "sqrt_x = \n",
    "print()\n",
    "print(x.max())"
   ]
  },
  {
   "cell_type": "code",
   "execution_count": 47,
   "metadata": {},
   "outputs": [
    {
     "name": "stdout",
     "output_type": "stream",
     "text": [
      "1000000007\n",
      "1\n",
      "1000000007\n"
     ]
    }
   ],
   "source": [
    "N = int(input())\n",
    "output = []\n",
    "for i in range(1, int(N**0.5)+1):\n",
    "    if N % i == 0:\n",
    "        output.append(i)\n",
    "        output.append(N//i)\n",
    "output = list(set(output))\n",
    "for i in sorted(output):\n",
    "    print(i)"
   ]
  },
  {
   "cell_type": "code",
   "execution_count": null,
   "metadata": {},
   "outputs": [],
   "source": []
  }
 ],
 "metadata": {
  "kernelspec": {
   "display_name": "Python 3",
   "language": "python",
   "name": "python3"
  },
  "language_info": {
   "codemirror_mode": {
    "name": "ipython",
    "version": 3
   },
   "file_extension": ".py",
   "mimetype": "text/x-python",
   "name": "python",
   "nbconvert_exporter": "python",
   "pygments_lexer": "ipython3",
   "version": "3.7.6"
  }
 },
 "nbformat": 4,
 "nbformat_minor": 4
}
