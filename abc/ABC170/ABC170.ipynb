{
 "cells": [
  {
   "cell_type": "code",
   "execution_count": 6,
   "metadata": {},
   "outputs": [
    {
     "name": "stdout",
     "output_type": "stream",
     "text": [
      "0 2 3 4 5\n",
      "1\n"
     ]
    }
   ],
   "source": [
    "import numpy as np\n",
    "\n",
    "Xs = np.array(list((map(int, input().split()))))\n",
    "ans = 1 + 2 + 3 + 4 + 5\n",
    "print(ans - Xs.sum())"
   ]
  },
  {
   "cell_type": "code",
   "execution_count": 21,
   "metadata": {},
   "outputs": [
    {
     "name": "stdout",
     "output_type": "stream",
     "text": [
      "100 100\n",
      "No\n"
     ]
    }
   ],
   "source": [
    "import numpy as np\n",
    "from itertools import combinations_with_replacement\n",
    "\n",
    "X, Y = map(int, input().split())\n",
    "flag = 0\n",
    "\n",
    "for x in combinations_with_replacement('24', X):\n",
    "    a = np.array(list(map(int, x)))\n",
    "    if a.sum() == Y:\n",
    "        flag = 1\n",
    "        break\n",
    "if flag == 1:\n",
    "    print('Yes')\n",
    "else:\n",
    "    print('No')"
   ]
  },
  {
   "cell_type": "code",
   "execution_count": 44,
   "metadata": {},
   "outputs": [
    {
     "name": "stdout",
     "output_type": "stream",
     "text": [
      "10 5\n",
      "4 7 10 6 5\n",
      "9\n"
     ]
    }
   ],
   "source": [
    "import numpy as np\n",
    "\n",
    "X, N = map(int, input().split())\n",
    "if N == 0:\n",
    "    p_list = [X]\n",
    "else:\n",
    "    p_list = np.array(list(map(int, input().split()))) - X\n",
    "sorted_p_list = np.array(sorted(list(p_list)))\n",
    "idx = np.abs(sorted_p_list).argmin()\n",
    "p_list_kai = list(sorted_p_list)\n",
    "tansaku_list = []\n",
    "if p_list_kai[idx] == 0:\n",
    "    hidari = idx - 1\n",
    "    migi = idx + 1\n",
    "    if hidari != -1:\n",
    "        tansaku_list.append(p_list_kai[hidari])\n",
    "    if migi != len(p_list_kai):\n",
    "        tansaku_list.append(p_list_kai[migi])\n",
    "    for i in range(1, 101):\n",
    "        _i = i * (-1)\n",
    "        if i in tansaku_list and _i in tansaku_list:\n",
    "            migi += 1\n",
    "            hidari -= 1\n",
    "            if hidari != -1:\n",
    "                tansaku_list.append(p_list_kai[hidari])\n",
    "            if migi != len(p_list_kai):\n",
    "                tansaku_list.append(p_list_kai[migi])\n",
    "            continue\n",
    "        elif i in tansaku_list:\n",
    "            ans = X + _i\n",
    "            break\n",
    "        elif _i in tansaku_list:\n",
    "            ans = X + i\n",
    "            break\n",
    "        else:\n",
    "            ans = X + _i\n",
    "            break\n",
    "else:\n",
    "    ans = X\n",
    "print(ans)"
   ]
  },
  {
   "cell_type": "code",
   "execution_count": 68,
   "metadata": {},
   "outputs": [
    {
     "name": "stdout",
     "output_type": "stream",
     "text": [
      "10\n",
      "33 18 45 28 8 19 89 86 2 4\n",
      "5\n"
     ]
    }
   ],
   "source": [
    "import numpy as np\n",
    "\n",
    "\n",
    "N = int(input())\n",
    "A = list(map(int, input().split()))\n",
    "A_sorted = sorted(A)\n",
    "ans = 0\n",
    "for i in A_sorted:\n",
    "    np_list = np.array(A_sorted)\n",
    "    if (np_list - i).sum() == 0:\n",
    "        break\n",
    "    idx = np.where((np_list % i) == 0)[0]\n",
    "    for yo, j in enumerate(idx[1:]):\n",
    "        del A_sorted[j - yo]\n",
    "    ans += 1\n",
    "print(ans)"
   ]
  },
  {
   "cell_type": "code",
   "execution_count": null,
   "metadata": {},
   "outputs": [],
   "source": []
  }
 ],
 "metadata": {
  "kernelspec": {
   "display_name": "Python 3",
   "language": "python",
   "name": "python3"
  },
  "language_info": {
   "codemirror_mode": {
    "name": "ipython",
    "version": 3
   },
   "file_extension": ".py",
   "mimetype": "text/x-python",
   "name": "python",
   "nbconvert_exporter": "python",
   "pygments_lexer": "ipython3",
   "version": "3.7.6"
  }
 },
 "nbformat": 4,
 "nbformat_minor": 4
}
