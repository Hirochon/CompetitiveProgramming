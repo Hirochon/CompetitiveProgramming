{
 "cells": [
  {
   "cell_type": "code",
   "execution_count": 1,
   "metadata": {},
   "outputs": [
    {
     "data": {
      "application/vnd.jupyter.widget-view+json": {
       "model_id": "f7c8203b77974a96b47df2eee086894c",
       "version_major": 2,
       "version_minor": 0
      },
      "text/plain": [
       "Textarea(value='')"
      ]
     },
     "metadata": {},
     "output_type": "display_data"
    }
   ],
   "source": [
    "from ipywidgets import Textarea\n",
    "\n",
    "def get_input(change):\n",
    "    global Input\n",
    "    Input=change[\"new\"]\n",
    "\n",
    "textarea = Textarea()\n",
    "textarea.observe(get_input, names='value')\n",
    "display(textarea)"
   ]
  },
  {
   "cell_type": "code",
   "execution_count": 87,
   "metadata": {},
   "outputs": [
    {
     "name": "stdout",
     "output_type": "stream",
     "text": [
      "['1', '2', '3']\n"
     ]
    }
   ],
   "source": [
    "a = Input.split()[:3]\n",
    "\n",
    "print(a)"
   ]
  },
  {
   "cell_type": "code",
   "execution_count": 6,
   "metadata": {},
   "outputs": [
    {
     "name": "stdout",
     "output_type": "stream",
     "text": [
      "helloAtZoner\n",
      "0\n"
     ]
    }
   ],
   "source": [
    "S = input()\n",
    "\n",
    "ans = S.count(\"ZONe\")\n",
    "\n",
    "print(ans)"
   ]
  },
  {
   "cell_type": "code",
   "execution_count": 91,
   "metadata": {},
   "outputs": [
    {
     "name": "stdout",
     "output_type": "stream",
     "text": [
      "5 896 483\n",
      "228 59\n",
      "529 310\n",
      "339 60\n",
      "78 266\n",
      "659 391\n",
      "245.30806845965773\n"
     ]
    }
   ],
   "source": [
    "import math\n",
    "\n",
    "N, D, H = map(int, input().split())\n",
    "\n",
    "ans = float(0)\n",
    "\n",
    "for n in range(N):\n",
    "    d, h = map(int, input().split())\n",
    "    katamuki = (H - h)/(D - d)\n",
    "    if katamuki < H/D:\n",
    "        theta = math.atan(katamuki)\n",
    "        ans_sub = H - (D * abs(math.tan(theta)))\n",
    "        \n",
    "        if ans < ans_sub:\n",
    "            ans = ans_sub\n",
    "            \n",
    "print(ans)"
   ]
  },
  {
   "cell_type": "code",
   "execution_count": 116,
   "metadata": {},
   "outputs": [],
   "source": [
    "import numpy as np\n",
    "\n",
    "a = np.zeros(25, dtype=\"int\").reshape(5,5)"
   ]
  },
  {
   "cell_type": "code",
   "execution_count": 122,
   "metadata": {},
   "outputs": [
    {
     "name": "stdout",
     "output_type": "stream",
     "text": [
      "3 9 6 4 6\n"
     ]
    },
    {
     "data": {
      "text/plain": [
       "numpy.ndarray"
      ]
     },
     "execution_count": 122,
     "metadata": {},
     "output_type": "execute_result"
    }
   ],
   "source": [
    "np.array(list(map(int, input().split())))"
   ]
  },
  {
   "cell_type": "code",
   "execution_count": 124,
   "metadata": {},
   "outputs": [
    {
     "name": "stdout",
     "output_type": "stream",
     "text": [
      "3\n",
      "3 9 6 4 6\n",
      "6 9 3 1 1\n",
      "8 8 9 3 7\n",
      "4\n"
     ]
    }
   ],
   "source": [
    "import numpy as np\n",
    "\n",
    "N = int(input())\n",
    "\n",
    "ans = np.zeros(25, dtype=\"int\").reshape(5,5)\n",
    "\n",
    "for _ in range(N):\n",
    "    A = np.array(list(map(int, input().split())))\n",
    "    for i in range(5):\n",
    "        if ans[i, i] < A[i]:\n",
    "            ans[i] = A\n",
    "\n",
    "answer = []\n",
    "for i in range(5):\n",
    "    answer.append(ans[:, i].max())\n",
    "\n",
    "print(min(answer))"
   ]
  },
  {
   "cell_type": "code",
   "execution_count": null,
   "metadata": {},
   "outputs": [],
   "source": []
  }
 ],
 "metadata": {
  "kernelspec": {
   "display_name": "Python 3",
   "language": "python",
   "name": "python3"
  },
  "language_info": {
   "codemirror_mode": {
    "name": "ipython",
    "version": 3
   },
   "file_extension": ".py",
   "mimetype": "text/x-python",
   "name": "python",
   "nbconvert_exporter": "python",
   "pygments_lexer": "ipython3",
   "version": "3.7.6"
  }
 },
 "nbformat": 4,
 "nbformat_minor": 4
}
