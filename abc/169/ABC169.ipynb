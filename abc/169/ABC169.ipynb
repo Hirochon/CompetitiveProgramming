{
 "cells": [
  {
   "cell_type": "code",
   "execution_count": 2,
   "metadata": {},
   "outputs": [],
   "source": [
    "import numpy as np\n",
    "from collections import deque\n",
    "import itertools"
   ]
  },
  {
   "cell_type": "code",
   "execution_count": 4,
   "metadata": {},
   "outputs": [
    {
     "name": "stdout",
     "output_type": "stream",
     "text": [
      "100 100\n",
      "10000\n"
     ]
    }
   ],
   "source": [
    "A, B = map(int, input().split())\n",
    "print(A*B)"
   ]
  },
  {
   "cell_type": "code",
   "execution_count": 25,
   "metadata": {},
   "outputs": [
    {
     "name": "stdout",
     "output_type": "stream",
     "text": [
      "3\n",
      "101 9901 999999000001\n",
      "-1\n"
     ]
    }
   ],
   "source": [
    "N = int(input())\n",
    "A = list(map(int, input().split()))\n",
    "if 0 in A:\n",
    "    print(0)\n",
    "else:\n",
    "    ans = A[0]\n",
    "    for i in range(1, N):\n",
    "        ans *= A[i]\n",
    "        if ans > 10**18:\n",
    "            ans = -1\n",
    "            break\n",
    "    print(ans)"
   ]
  },
  {
   "cell_type": "code",
   "execution_count": 41,
   "metadata": {},
   "outputs": [
    {
     "name": "stdout",
     "output_type": "stream",
     "text": [
      "1000000000000000 9.99\n",
      "9990000000000000\n"
     ]
    }
   ],
   "source": [
    "import math\n",
    "A, B = input().split()\n",
    "A = int(A)\n",
    "B = float(B)\n",
    "C = A * B\n",
    "print(math.floor(C))"
   ]
  },
  {
   "cell_type": "code",
   "execution_count": 139,
   "metadata": {},
   "outputs": [
    {
     "name": "stdout",
     "output_type": "stream",
     "text": [
      "1000000007\n",
      "1\n"
     ]
    }
   ],
   "source": [
    "def factorization(n):\n",
    "    arr = []\n",
    "    temp = n\n",
    "    for i in range(2, int(-(-n**0.5//1))+1):\n",
    "        if temp%i==0:\n",
    "            cnt=0\n",
    "            while temp%i==0:\n",
    "                temp //= i\n",
    "                cnt += 1\n",
    "            arr.append([i, cnt])\n",
    "    if temp!=1:\n",
    "        arr.append([temp, 1])\n",
    "    return arr\n",
    "\n",
    "N = int(input())\n",
    "if N == 1:\n",
    "    print(0)\n",
    "else:\n",
    "    pri_list = factorization(N)\n",
    "    a = 0\n",
    "    b = 0\n",
    "    for pri in pri_list:\n",
    "        a += pri[1] // 2\n",
    "        b += pri[1] % 2\n",
    "    print(a+b)\n",
    "#     prist = []\n",
    "#     f = 0\n",
    "#     for pri in pri_list:\n",
    "#         prist.append(pri[0])\n",
    "#         f += pri[1]\n",
    "#     if f == 1:\n",
    "#         print(1)\n",
    "#     else:\n",
    "#         flag = 0\n",
    "#         i = 0\n",
    "#         jou = {i:i for i in prist}\n",
    "#         while flag != 1:\n",
    "#             for j in range(len(prist)):\n",
    "#                 if N % prist[j] == 0:\n",
    "#                     N /= prist[j]\n",
    "#                     i += 1\n",
    "#                     pri = prist[j]\n",
    "#                     prist[j] *= jou[prist[j]]\n",
    "#                     jou[prist[j]] = jou[pri]\n",
    "#                     prist.sort()\n",
    "#                     break\n",
    "#             if j == len(prist) - 1:\n",
    "#                 flag = 1\n",
    "#         print(i)"
   ]
  }
 ],
 "metadata": {
  "kernelspec": {
   "display_name": "Python 3",
   "language": "python",
   "name": "python3"
  },
  "language_info": {
   "codemirror_mode": {
    "name": "ipython",
    "version": 3
   },
   "file_extension": ".py",
   "mimetype": "text/x-python",
   "name": "python",
   "nbconvert_exporter": "python",
   "pygments_lexer": "ipython3",
   "version": "3.7.6"
  }
 },
 "nbformat": 4,
 "nbformat_minor": 4
}
