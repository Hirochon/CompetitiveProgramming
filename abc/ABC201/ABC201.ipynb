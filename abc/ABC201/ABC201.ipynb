{
 "cells": [
  {
   "cell_type": "code",
   "execution_count": 8,
   "metadata": {},
   "outputs": [
    {
     "name": "stdout",
     "output_type": "stream",
     "text": [
      "5 5 5\n",
      "Yes\n"
     ]
    }
   ],
   "source": [
    "A = list(map(int, input().split()))\n",
    "A = sorted(A)\n",
    "sa = A[1] - A[0]\n",
    "if A[2] - A[1] == sa:\n",
    "    print(\"Yes\")\n",
    "else:\n",
    "    print(\"No\")"
   ]
  },
  {
   "cell_type": "code",
   "execution_count": 14,
   "metadata": {},
   "outputs": [
    {
     "name": "stdout",
     "output_type": "stream",
     "text": [
      "4\n",
      "QCFium 2846\n",
      "chokudai 2992\n",
      "kyoprofriends 2432\n",
      "penguinman 2390\n",
      "QCFium\n"
     ]
    }
   ],
   "source": [
    "import numpy as np\n",
    "\n",
    "N = int(input())\n",
    "S_list = []\n",
    "takasa = []\n",
    "for i in range(N):\n",
    "    S, T = input().split()\n",
    "    S_list.append(S)\n",
    "    takasa.append(int(T))\n",
    "    \n",
    "index = np.argsort(np.array(takasa))[::-1]\n",
    "print(S_list[index[1]])"
   ]
  },
  {
   "cell_type": "code",
   "execution_count": 32,
   "metadata": {},
   "outputs": [
    {
     "data": {
      "text/plain": [
       "[0, 1]"
      ]
     },
     "execution_count": 32,
     "metadata": {},
     "output_type": "execute_result"
    }
   ],
   "source": [
    "np.arange(2).tolist()"
   ]
  },
  {
   "cell_type": "code",
   "execution_count": 46,
   "metadata": {},
   "outputs": [
    {
     "name": "stdout",
     "output_type": "stream",
     "text": [
      "xxxxx?xxxo\n",
      "15\n"
     ]
    }
   ],
   "source": [
    "S = input()\n",
    "x_count = S.count(\"x\")\n",
    "o_count = S.count(\"o\")\n",
    "h_count = S.count(\"?\")\n",
    "\n",
    "o_list = np.arange(o_count).tolist()\n",
    "\n",
    "all_list = []\n",
    "\n",
    "if o_count > 4:\n",
    "    print(0)\n",
    "else:\n",
    "    range_num = 10 - x_count\n",
    "    for i in range(range_num):\n",
    "        for j in range(range_num):\n",
    "            for k in range(range_num):\n",
    "                for l in range(range_num):\n",
    "                    a = [0 for o in o_list if o in [i, j, k, l]]\n",
    "                    if len(a) >= len(o_list):\n",
    "                        all_list.append([i, j, k, l])\n",
    "                        \n",
    "    print(len(all_list))"
   ]
  },
  {
   "cell_type": "code",
   "execution_count": 38,
   "metadata": {},
   "outputs": [
    {
     "data": {
      "text/plain": [
       "[0, 0, 0]"
      ]
     },
     "execution_count": 38,
     "metadata": {},
     "output_type": "execute_result"
    }
   ],
   "source": [
    "[0 for i in range(5) if i%2 == 0]"
   ]
  },
  {
   "cell_type": "code",
   "execution_count": 43,
   "metadata": {},
   "outputs": [
    {
     "data": {
      "text/plain": [
       "108"
      ]
     },
     "execution_count": 43,
     "metadata": {},
     "output_type": "execute_result"
    }
   ],
   "source": [
    "len(all_list)"
   ]
  },
  {
   "cell_type": "code",
   "execution_count": null,
   "metadata": {},
   "outputs": [],
   "source": [
    "all"
   ]
  },
  {
   "cell_type": "code",
   "execution_count": 27,
   "metadata": {},
   "outputs": [],
   "source": [
    "\n",
    "\n",
    "all_list = []\n",
    "for i in range(10):\n",
    "    for j in range(10):\n",
    "        for k in range(10):\n",
    "            for l in range(10):\n",
    "                a = [0 for x in [i, j, k, l] if x in [0,1,2]]\n",
    "                if a.count(0) > 0:\n",
    "                    all_list.append([i, j, k, l])"
   ]
  },
  {
   "cell_type": "code",
   "execution_count": 29,
   "metadata": {},
   "outputs": [
    {
     "data": {
      "text/plain": [
       "7599"
      ]
     },
     "execution_count": 29,
     "metadata": {},
     "output_type": "execute_result"
    }
   ],
   "source": [
    "len(all_list)"
   ]
  },
  {
   "cell_type": "code",
   "execution_count": 47,
   "metadata": {},
   "outputs": [
    {
     "data": {
      "text/plain": [
       "array([0., 0., 0.])"
      ]
     },
     "execution_count": 47,
     "metadata": {},
     "output_type": "execute_result"
    }
   ],
   "source": [
    "np.zeros(3)"
   ]
  },
  {
   "cell_type": "code",
   "execution_count": 51,
   "metadata": {},
   "outputs": [],
   "source": [
    "pm_dict = {\n",
    "    \"+\": 1,\n",
    "    \"-\": -1\n",
    "}"
   ]
  },
  {
   "cell_type": "code",
   "execution_count": 53,
   "metadata": {},
   "outputs": [
    {
     "data": {
      "text/plain": [
       "-1"
      ]
     },
     "execution_count": 53,
     "metadata": {},
     "output_type": "execute_result"
    }
   ],
   "source": [
    "pm_dict[\"-\"]"
   ]
  },
  {
   "cell_type": "code",
   "execution_count": 55,
   "metadata": {},
   "outputs": [],
   "source": [
    "a = \"0000\""
   ]
  },
  {
   "cell_type": "code",
   "execution_count": 56,
   "metadata": {},
   "outputs": [
    {
     "ename": "TypeError",
     "evalue": "'str' object does not support item assignment",
     "output_type": "error",
     "traceback": [
      "\u001b[0;31m---------------------------------------------------------------------------\u001b[0m",
      "\u001b[0;31mTypeError\u001b[0m                                 Traceback (most recent call last)",
      "\u001b[0;32m<ipython-input-56-05ac2368caae>\u001b[0m in \u001b[0;36m<module>\u001b[0;34m\u001b[0m\n\u001b[0;32m----> 1\u001b[0;31m \u001b[0ma\u001b[0m\u001b[0;34m[\u001b[0m\u001b[0;36m0\u001b[0m\u001b[0;34m]\u001b[0m \u001b[0;34m=\u001b[0m \u001b[0;34m\"1\"\u001b[0m\u001b[0;34m\u001b[0m\u001b[0;34m\u001b[0m\u001b[0m\n\u001b[0m",
      "\u001b[0;31mTypeError\u001b[0m: 'str' object does not support item assignment"
     ]
    }
   ],
   "source": [
    "a[0] = \"1\""
   ]
  },
  {
   "cell_type": "code",
   "execution_count": 61,
   "metadata": {},
   "outputs": [
    {
     "name": "stdout",
     "output_type": "stream",
     "text": [
      "1 1\n",
      "-\n",
      "Draw\n"
     ]
    }
   ],
   "source": [
    "import numpy as np\n",
    "H, W = map(int, input().split())\n",
    "takahashi = 0\n",
    "aoki = 0\n",
    "\n",
    "pm_dict = {\n",
    "    \"+\": 1,\n",
    "    \"-\": -1,\n",
    "    \"*\": 0\n",
    "}\n",
    "\n",
    "for i in range(H):\n",
    "    w = input()\n",
    "    if i == 0:\n",
    "        w = \"*\" + w[1:]\n",
    "    for j in range(W):\n",
    "        if (j + i) % 2 == 1:\n",
    "            takahashi += pm_dict[w[j]]\n",
    "        else:\n",
    "            aoki += pm_dict[w[j]]\n",
    "\n",
    "if takahashi > aoki:\n",
    "    print(\"Takahashi\")\n",
    "elif aoki > takahashi:\n",
    "    print(\"Aoki\")\n",
    "else:\n",
    "    print(\"Draw\")"
   ]
  },
  {
   "cell_type": "code",
   "execution_count": 98,
   "metadata": {},
   "outputs": [],
   "source": [
    "visited = [[[] for _ in range(5)] for _ in range(5)]"
   ]
  },
  {
   "cell_type": "code",
   "execution_count": 99,
   "metadata": {},
   "outputs": [
    {
     "data": {
      "text/plain": [
       "[[[], [], [], [], []],\n",
       " [[], [], [], [], []],\n",
       " [[], [], [], [], []],\n",
       " [[], [], [], [], []],\n",
       " [[], [], [], [], []]]"
      ]
     },
     "execution_count": 99,
     "metadata": {},
     "output_type": "execute_result"
    }
   ],
   "source": [
    "visited"
   ]
  },
  {
   "cell_type": "code",
   "execution_count": 102,
   "metadata": {},
   "outputs": [
    {
     "data": {
      "text/plain": [
       "[]"
      ]
     },
     "execution_count": 102,
     "metadata": {},
     "output_type": "execute_result"
    }
   ],
   "source": [
    "visited[0][0]"
   ]
  },
  {
   "cell_type": "code",
   "execution_count": 101,
   "metadata": {},
   "outputs": [
    {
     "name": "stdout",
     "output_type": "stream",
     "text": [
      "b\n"
     ]
    }
   ],
   "source": [
    "if visited[0][0]:\n",
    "    print(\"a\")\n",
    "else:\n",
    "    print(\"b\")"
   ]
  },
  {
   "cell_type": "code",
   "execution_count": 104,
   "metadata": {},
   "outputs": [
    {
     "data": {
      "text/plain": [
       "[0, 1, 1, 1, 1]"
      ]
     },
     "execution_count": 104,
     "metadata": {},
     "output_type": "execute_result"
    }
   ],
   "source": [
    "[i if i == 0 else 1 for i in range(5)]"
   ]
  },
  {
   "cell_type": "code",
   "execution_count": 126,
   "metadata": {},
   "outputs": [
    {
     "name": "stdout",
     "output_type": "stream",
     "text": [
      "1 1\n",
      "-\n",
      "Draw\n"
     ]
    }
   ],
   "source": [
    "h, w = map(int, input().split())\n",
    "\n",
    "INF = 10**10\n",
    "\n",
    "visited = [[[] for _ in range(w)] for _ in range(h)]\n",
    "memo = [[[] for _ in range(w)] for _ in range(h)]\n",
    "\n",
    "def f(i, j):\n",
    "    if i == h - 1 and j == w - 1:\n",
    "        return 0\n",
    "    if visited[i][j]:\n",
    "        return memo[i][j]\n",
    "    visited[i][j] = True\n",
    "    res = -INF\n",
    "    if j+1 < w:\n",
    "        res = max(res, a[i][j+1] - f(i, j+1))\n",
    "    if i+1 < h:\n",
    "        res = max(res, a[i+1][j] - f(i+1, j))\n",
    "    memo[i][j] = res\n",
    "    return memo[i][j]\n",
    "\n",
    "s = [input() for _ in range(h)]\n",
    "a = [[1 if s[i][j] == '+' else -1 for j in range(w)] for i in range(h)]\n",
    "\n",
    "score = f(0, 0)\n",
    "if score == 0:\n",
    "    print(\"Draw\")\n",
    "if score < 0:\n",
    "    print(\"Aoki\")\n",
    "if score > 0:\n",
    "    print(\"Takahashi\")"
   ]
  },
  {
   "cell_type": "code",
   "execution_count": null,
   "metadata": {},
   "outputs": [],
   "source": [
    "# 3 3\n",
    "# ---\n",
    "# +-+\n",
    "# +--\n"
   ]
  }
 ],
 "metadata": {
  "kernelspec": {
   "display_name": "Python 3",
   "language": "python",
   "name": "python3"
  },
  "language_info": {
   "codemirror_mode": {
    "name": "ipython",
    "version": 3
   },
   "file_extension": ".py",
   "mimetype": "text/x-python",
   "name": "python",
   "nbconvert_exporter": "python",
   "pygments_lexer": "ipython3",
   "version": "3.7.6"
  }
 },
 "nbformat": 4,
 "nbformat_minor": 4
}
