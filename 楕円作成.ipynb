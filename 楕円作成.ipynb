{
 "cells": [
  {
   "cell_type": "code",
   "execution_count": 1,
   "metadata": {},
   "outputs": [],
   "source": [
    "import numpy as np\n",
    "import matplotlib.pyplot as plt\n",
    "%matplotlib inline"
   ]
  },
  {
   "cell_type": "code",
   "execution_count": 2,
   "metadata": {},
   "outputs": [],
   "source": [
    "class ellipse_generator:\n",
    "    \n",
    "    def __init__(self, a, b, pad=0):\n",
    "        self.w = 2*a + 1\n",
    "        self.h = 2*b + 1\n",
    "        ellipse_list = np.zeros(self.w*self.h, dtype=int).reshape(self.h, self.w)\n",
    "        \n",
    "        for h_i in range(self.h):\n",
    "            i = h_i - b\n",
    "            for w_j in range(self.w):\n",
    "                j = w_j - a\n",
    "                \n",
    "                if j**2 <= (a**2 * (1 - i**2/b**2)):\n",
    "                    ellipse_list[h_i, w_j] = 1\n",
    "        \n",
    "        self.ellipse_list = np.pad(ellipse_list, (pad,pad), 'constant')\n",
    "        \n",
    "    def output(self):\n",
    "        \n",
    "        return self.ellipse_list\n",
    "    \n",
    "    def show(self):\n",
    "        plt.figure(figsize=(self.w**0.5, self.h**0.5))\n",
    "        plt.pcolor(self.ellipse_list)\n",
    "        plt.show()"
   ]
  },
  {
   "cell_type": "code",
   "execution_count": 3,
   "metadata": {},
   "outputs": [],
   "source": [
    "elige = ellipse_generator(a=50, b=80, pad=5)"
   ]
  },
  {
   "cell_type": "code",
   "execution_count": 4,
   "metadata": {},
   "outputs": [
    {
     "data": {
      "text/plain": [
       "array([[0, 0, 0, ..., 0, 0, 0],\n",
       "       [0, 0, 0, ..., 0, 0, 0],\n",
       "       [0, 0, 0, ..., 0, 0, 0],\n",
       "       ...,\n",
       "       [0, 0, 0, ..., 0, 0, 0],\n",
       "       [0, 0, 0, ..., 0, 0, 0],\n",
       "       [0, 0, 0, ..., 0, 0, 0]])"
      ]
     },
     "execution_count": 4,
     "metadata": {},
     "output_type": "execute_result"
    }
   ],
   "source": [
    "elige.output()"
   ]
  },
  {
   "cell_type": "code",
   "execution_count": 5,
   "metadata": {},
   "outputs": [
    {
     "data": {
      "image/png": "[encoded data removed]",
      "text/plain": [
       "<Figure size 723.591x913.578 with 1 Axes>"
      ]
     },
     "metadata": {
      "needs_background": "light"
     },
     "output_type": "display_data"
    }
   ],
   "source": [
    "elige.show()"
   ]
  },
  {
   "cell_type": "code",
   "execution_count": null,
   "metadata": {},
   "outputs": [],
   "source": []
  }
 ],
 "metadata": {
  "kernelspec": {
   "display_name": "Python 3",
   "language": "python",
   "name": "python3"
  },
  "language_info": {
   "codemirror_mode": {
    "name": "ipython",
    "version": 3
   },
   "file_extension": ".py",
   "mimetype": "text/x-python",
   "name": "python",
   "nbconvert_exporter": "python",
   "pygments_lexer": "ipython3",
   "version": "3.7.6"
  }
 },
 "nbformat": 4,
 "nbformat_minor": 4
}
