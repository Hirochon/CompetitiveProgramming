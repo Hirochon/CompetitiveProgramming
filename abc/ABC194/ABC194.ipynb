{
 "cells": [
  {
   "cell_type": "code",
   "execution_count": 6,
   "metadata": {},
   "outputs": [
    {
     "name": "stdout",
     "output_type": "stream",
     "text": [
      "1 2\n",
      "3\n"
     ]
    }
   ],
   "source": [
    "A, B = map(int, input().split())\n",
    "\n",
    "if A+B >= 15 and B >= 8:\n",
    "    print(1)\n",
    "elif A+B >= 10 and B >= 3:\n",
    "    print(2)\n",
    "elif A+B >= 3:\n",
    "    print(3)\n",
    "else:\n",
    "    print(4)"
   ]
  },
  {
   "cell_type": "code",
   "execution_count": null,
   "metadata": {},
   "outputs": [],
   "source": []
  },
  {
   "cell_type": "code",
   "execution_count": 7,
   "metadata": {},
   "outputs": [
    {
     "name": "stdout",
     "output_type": "stream",
     "text": [
      "3\n",
      "8 5\n",
      "4 4\n",
      "7 9\n",
      "8\n"
     ]
    }
   ],
   "source": [
    "N = int(input())\n",
    "\n",
    "min_A, min_B = map(int, input().split())\n",
    "min_time = min_A + min_B\n",
    "\n",
    "for i in range(N-1):\n",
    "    A, B = map(int, input().split())\n",
    "    \n",
    "    flag_A = False\n",
    "    \n",
    "    if min_A > A:\n",
    "        min_A = A\n",
    "        \n",
    "        if min_B > B:\n",
    "            \n",
    "            \n",
    "    if min_B > B:\n",
    "        min_B = B\n",
    "            \n",
    "    if min_time \n",
    "    \n"
   ]
  },
  {
   "cell_type": "code",
   "execution_count": 28,
   "metadata": {},
   "outputs": [
    {
     "name": "stdout",
     "output_type": "stream",
     "text": [
      "3\n",
      "8 5\n",
      "4 4\n",
      "7 9\n",
      "5\n"
     ]
    }
   ],
   "source": [
    "import numpy as np\n",
    "\n",
    "N = int(input())\n",
    "\n",
    "A_list = []\n",
    "B_list = []\n",
    "\n",
    "for i in range(N):\n",
    "    A, B = map(int, input().split())\n",
    "    \n",
    "    A_list.append(A)\n",
    "    B_list.append(B)\n",
    "    \n",
    "A_min = min(A_list)\n",
    "B_min = min(B_list)\n",
    "\n",
    "if np.argmin(A_list) == np.argmin(B_list):\n",
    "    if A_list.count(min(A_list)) > 1 or B_list.count(min(B_list)) > 1:\n",
    "        if A_min > B_min:\n",
    "            print(A_min)\n",
    "        else:\n",
    "            print(B_min)\n",
    "    else:\n",
    "        sum_min = A_min + B_min\n",
    "        cp_A_list = A_list.copy()\n",
    "        cp_B_list = B_list.copy()\n",
    "        \n",
    "        cp_A_list.remove(A_min)\n",
    "        ex_A_min = min(cp_A_list)\n",
    "        cp_B_list.remove(B_min)\n",
    "        ex_B_min = min(cp_B_list)\n",
    "        if ex_A_min > ex_B_min:\n",
    "            min_x = ex_B_min\n",
    "            if ex_B_min > A_min:\n",
    "                if sum_min > min_x:\n",
    "                    print(min_x)\n",
    "                else:\n",
    "                    print(sum_min)\n",
    "            else:\n",
    "                if sum_min > A_min:\n",
    "                    print(A_min)\n",
    "                else:\n",
    "                    print(sum_min)\n",
    "        else:\n",
    "            min_x = ex_A_min\n",
    "            if ex_A_min > B_min:\n",
    "                if sum_min > min_x:\n",
    "                    print(min_x)\n",
    "                else:\n",
    "                    print(sum_min)\n",
    "            else:\n",
    "                if sum_min > B_min:\n",
    "                    print(B_min)\n",
    "                else:\n",
    "                    print(sum_min)\n",
    "else:\n",
    "    if A_min > B_min:\n",
    "        print(A_min)\n",
    "    else:\n",
    "        print(B_min)"
   ]
  },
  {
   "cell_type": "code",
   "execution_count": 33,
   "metadata": {},
   "outputs": [
    {
     "name": "stdout",
     "output_type": "stream",
     "text": [
      "5\n",
      "-5 8 9 -4 -3\n",
      "950\n"
     ]
    }
   ],
   "source": [
    "import itertools\n",
    "\n",
    "N = int(input())\n",
    "\n",
    "A_list = map(int, input().split())\n",
    "ans = 0\n",
    "\n",
    "for i, j in itertools.combinations(A_list, 2):\n",
    "    ans += (i - j)**2\n",
    "    \n",
    "print(ans)"
   ]
  },
  {
   "cell_type": "code",
   "execution_count": 30,
   "metadata": {},
   "outputs": [
    {
     "name": "stdout",
     "output_type": "stream",
     "text": [
      "1 2\n",
      "1 3\n",
      "1 4\n",
      "1 5\n",
      "2 3\n",
      "2 4\n",
      "2 5\n",
      "3 4\n",
      "3 5\n",
      "4 5\n"
     ]
    }
   ],
   "source": [
    "import itertools\n",
    "\n",
    "for i, j in itertools.combinations([1, 2, 3, 4, 5], 2):\n",
    "    print(i, j)"
   ]
  },
  {
   "cell_type": "code",
   "execution_count": null,
   "metadata": {},
   "outputs": [],
   "source": []
  }
 ],
 "metadata": {
  "kernelspec": {
   "display_name": "Python 3",
   "language": "python",
   "name": "python3"
  },
  "language_info": {
   "codemirror_mode": {
    "name": "ipython",
    "version": 3
   },
   "file_extension": ".py",
   "mimetype": "text/x-python",
   "name": "python",
   "nbconvert_exporter": "python",
   "pygments_lexer": "ipython3",
   "version": "3.7.6"
  }
 },
 "nbformat": 4,
 "nbformat_minor": 4
}
